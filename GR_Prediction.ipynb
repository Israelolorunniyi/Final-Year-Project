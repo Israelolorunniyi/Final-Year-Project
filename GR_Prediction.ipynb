{
 "cells": [
  {
   "cell_type": "markdown",
   "id": "7b25d1a3-c782-4fa8-b2be-34cc93333e3a",
   "metadata": {},
   "source": [
    "### Gamma Ray Prediction"
   ]
  },
  {
   "cell_type": "code",
   "execution_count": 3,
   "id": "a5611b9e-0bd5-4ad3-9f5f-8ecdb768e7ce",
   "metadata": {},
   "outputs": [],
   "source": [
    "# Step 1: Imports\n",
    "import numpy as np\n",
    "import pandas as pd\n",
    "import tensorflow as tf\n",
    "from tensorflow.keras.models import Model\n",
    "from tensorflow.keras.layers import Input, LSTM, Dense, Dropout\n",
    "from sklearn.preprocessing import MinMaxScaler\n",
    "from sklearn.model_selection import train_test_split\n",
    "from sklearn.metrics import mean_absolute_percentage_error, r2_score, mean_squared_error\n",
    "import matplotlib.pyplot as plt\n",
    "import random"
   ]
  },
  {
   "cell_type": "code",
   "execution_count": 4,
   "id": "9f3ade35-5afc-4099-84d2-168306a16a46",
   "metadata": {},
   "outputs": [],
   "source": [
    "# Reproducibility\n",
    "np.random.seed(42)\n",
    "tf.random.set_seed(42)\n",
    "random.seed(42)\n",
    "\n",
    "# Step 2: Load Data\n",
    "df = pd.read_csv('cleaned_well_data.csv')\n",
    "depth = df['DEPT'].values\n",
    "input_features = ['SP:1', 'PHIE:1', 'VSH', 'SP:2', 'RES']\n",
    "target_logs = ['GR']"
   ]
  },
  {
   "cell_type": "code",
   "execution_count": 5,
   "id": "05a11c54-8866-4d51-8fcc-776f74c35908",
   "metadata": {},
   "outputs": [],
   "source": [
    "# Step 3: Scaling\n",
    "scaler_x = MinMaxScaler()\n",
    "scaler_y = MinMaxScaler()\n",
    "X = scaler_x.fit_transform(df[input_features])\n",
    "y = scaler_y.fit_transform(df[target_logs])\n",
    "\n",
    "# Step 4: Sequence Preparation\n",
    "def create_sequences(X, y, seq_length):\n",
    "    X_seq, y_seq = [], []\n",
    "    for i in range(len(X) - seq_length):\n",
    "        X_seq.append(X[i:i+seq_length])\n",
    "        y_seq.append(y[i+seq_length])  # predict next GR after sequence\n",
    "    return np.array(X_seq), np.array(y_seq)\n",
    "\n",
    "seq_length = 30  # Adjustable\n",
    "X_seq, y_seq = create_sequences(X, y, seq_length)"
   ]
  },
  {
   "cell_type": "code",
   "execution_count": 6,
   "id": "8394b2b7-1070-428a-88b0-44ec5179d16b",
   "metadata": {},
   "outputs": [],
   "source": [
    "# Step 5: Train-Test Split\n",
    "# Train-test split (80-20 split)\n",
    "split_idx = int(len(X_seq) * 0.8)\n",
    "X_train, X_test = X_seq[:split_idx], X_seq[split_idx:]\n",
    "y_train, y_test = y_seq[:split_idx], y_seq[split_idx:]\n",
    "depth_train, depth_test = depth[seq_length:split_idx+seq_length], depth[split_idx+seq_length:]\n",
    "\n",
    "# Step 6: Physics-Informed Loss\n",
    "import tensorflow.keras.backend as K\n",
    "\n",
    "def physics_informed_loss(y_true, y_pred):\n",
    "    mse = K.mean(K.square(y_true - y_pred))\n",
    "    smooth_penalty = K.mean(K.square(y_pred[1:] - y_pred[:-1]))  # smoothness in GR\n",
    "    range_penalty = K.mean(K.maximum(y_pred - 150, 0.0)) + K.mean(K.maximum(0.0 - y_pred, 0.0))\n",
    "    return mse + 0.2 * smooth_penalty + 0.2 * range_penalty\n"
   ]
  },
  {
   "cell_type": "code",
   "execution_count": 7,
   "id": "60288286-3466-4732-a0d0-04b17fd5664e",
   "metadata": {},
   "outputs": [
    {
     "name": "stdout",
     "output_type": "stream",
     "text": [
      "Model: \"model\"\n",
      "_________________________________________________________________\n",
      " Layer (type)                Output Shape              Param #   \n",
      "=================================================================\n",
      " input_1 (InputLayer)        [(None, 30, 5)]           0         \n",
      "                                                                 \n",
      " lstm (LSTM)                 (None, 30, 64)            17920     \n",
      "                                                                 \n",
      " dropout (Dropout)           (None, 30, 64)            0         \n",
      "                                                                 \n",
      " lstm_1 (LSTM)               (None, 32)                12416     \n",
      "                                                                 \n",
      " dropout_1 (Dropout)         (None, 32)                0         \n",
      "                                                                 \n",
      " dense (Dense)               (None, 1)                 33        \n",
      "                                                                 \n",
      "=================================================================\n",
      "Total params: 30,369\n",
      "Trainable params: 30,369\n",
      "Non-trainable params: 0\n",
      "_________________________________________________________________\n"
     ]
    }
   ],
   "source": [
    "# Step 7: LSTM Model\n",
    "input_layer = Input(shape=(X_train.shape[1], X_train.shape[2]))\n",
    "x = LSTM(64, return_sequences=True)(input_layer)\n",
    "x = Dropout(0.2)(x)\n",
    "x = LSTM(32)(x)\n",
    "x = Dropout(0.2)(x)\n",
    "output_layer = Dense(1)(x)\n",
    "model = Model(inputs=input_layer, outputs=output_layer)\n",
    "\n",
    "model.compile(optimizer='adam', loss=physics_informed_loss, metrics=['mae'])\n",
    "model.summary()"
   ]
  },
  {
   "cell_type": "code",
   "execution_count": null,
   "id": "a15234b1-93a2-487a-93f2-93198ec93534",
   "metadata": {},
   "outputs": [
    {
     "name": "stdout",
     "output_type": "stream",
     "text": [
      "Epoch 1/250\n",
      "124/124 [==============================] - 21s 62ms/step - loss: 0.0239 - mae: 0.1080 - val_loss: 0.0090 - val_mae: 0.0750\n",
      "Epoch 2/250\n",
      "124/124 [==============================] - 5s 41ms/step - loss: 0.0156 - mae: 0.0865 - val_loss: 0.0076 - val_mae: 0.0692\n",
      "Epoch 3/250\n",
      "124/124 [==============================] - 6s 46ms/step - loss: 0.0144 - mae: 0.0817 - val_loss: 0.0072 - val_mae: 0.0648\n",
      "Epoch 4/250\n",
      "124/124 [==============================] - 5s 42ms/step - loss: 0.0136 - mae: 0.0794 - val_loss: 0.0066 - val_mae: 0.0665\n",
      "Epoch 5/250\n",
      "124/124 [==============================] - 5s 41ms/step - loss: 0.0133 - mae: 0.0783 - val_loss: 0.0079 - val_mae: 0.0686\n",
      "Epoch 6/250\n",
      "124/124 [==============================] - 5s 44ms/step - loss: 0.0126 - mae: 0.0757 - val_loss: 0.0058 - val_mae: 0.0616\n",
      "Epoch 7/250\n",
      " 17/124 [===>..........................] - ETA: 4s - loss: 0.0116 - mae: 0.0732"
     ]
    }
   ],
   "source": [
    "# Step 8: Train Model\n",
    "history = model.fit(\n",
    "    X_train, y_train,\n",
    "    epochs=250,\n",
    "    batch_size=32,\n",
    "    validation_data=(X_test, y_test)\n",
    ")"
   ]
  },
  {
   "cell_type": "code",
   "execution_count": null,
   "id": "0c6853e3-3273-49c4-82be-ce50d9ae3dee",
   "metadata": {},
   "outputs": [],
   "source": [
    "# Step 9: Predictions and Metrics\n",
    "y_pred = model.predict(X_test)\n",
    "y_test_rescaled = scaler_y.inverse_transform(y_test)\n",
    "y_pred_rescaled = scaler_y.inverse_transform(y_pred)\n",
    "\n",
    "mape = mean_absolute_percentage_error(y_test_rescaled, y_pred_rescaled) * 100\n",
    "accuracy = 100 - mape\n",
    "r2 = r2_score(y_test_rescaled, y_pred_rescaled)\n",
    "mse = mean_squared_error(y_test_rescaled, y_pred_rescaled)\n",
    "\n",
    "print(f\"📊 Accuracy: {accuracy:.2f}%\")\n",
    "print(f\"📉 MAPE: {mape:.2f}%\")\n",
    "print(f\"📈 R²: {r2:.4f}\")\n",
    "print(f\"📉 MSE: {mse:.4f}\")"
   ]
  },
  {
   "cell_type": "code",
   "execution_count": null,
   "id": "6d1a1ef6-45da-4b52-b2e4-4a5585b8357d",
   "metadata": {},
   "outputs": [],
   "source": [
    "plt.figure(figsize=(8, 10))\n",
    "plt.plot(y_test_rescaled, depth_seq, label='Actual GR', color='blue')\n",
    "plt.plot(y_pred_rescaled, depth_seq, label='Predicted GR', color='orange')\n",
    "plt.gca().invert_yaxis()  # Depth increases downwards\n",
    "plt.title('Gamma Ray Prediction vs Depth')\n",
    "plt.xlabel('Gamma Ray (API)')\n",
    "plt.ylabel('Depth (m)')\n",
    "plt.legend()\n",
    "plt.grid(True)\n",
    "plt.show()"
   ]
  },
  {
   "cell_type": "code",
   "execution_count": null,
   "id": "47e4edb9-1319-455f-9f68-09898039a40f",
   "metadata": {},
   "outputs": [],
   "source": []
  },
  {
   "cell_type": "code",
   "execution_count": null,
   "id": "aee69b1d-579d-4880-a1fe-3d46c37afc8b",
   "metadata": {},
   "outputs": [],
   "source": []
  }
 ],
 "metadata": {
  "kernelspec": {
   "display_name": "Python 3 (ipykernel)",
   "language": "python",
   "name": "python3"
  },
  "language_info": {
   "codemirror_mode": {
    "name": "ipython",
    "version": 3
   },
   "file_extension": ".py",
   "mimetype": "text/x-python",
   "name": "python",
   "nbconvert_exporter": "python",
   "pygments_lexer": "ipython3",
   "version": "3.10.13"
  }
 },
 "nbformat": 4,
 "nbformat_minor": 5
}
