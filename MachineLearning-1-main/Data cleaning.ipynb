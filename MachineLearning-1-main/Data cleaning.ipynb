{
 "cells": [
  {
   "cell_type": "code",
   "execution_count": 1,
   "id": "d5926eaa-9d6e-4ff9-b8e8-3e1908516e42",
   "metadata": {},
   "outputs": [
    {
     "name": "stdout",
     "output_type": "stream",
     "text": [
      "Requirement already satisfied: pandas in c:\\users\\hp\\anaconda3\\lib\\site-packages (2.2.2)\n",
      "Requirement already satisfied: numpy>=1.26.0 in c:\\users\\hp\\anaconda3\\lib\\site-packages (from pandas) (1.26.4)\n",
      "Requirement already satisfied: python-dateutil>=2.8.2 in c:\\users\\hp\\anaconda3\\lib\\site-packages (from pandas) (2.9.0.post0)\n",
      "Requirement already satisfied: pytz>=2020.1 in c:\\users\\hp\\anaconda3\\lib\\site-packages (from pandas) (2024.1)\n",
      "Requirement already satisfied: tzdata>=2022.7 in c:\\users\\hp\\anaconda3\\lib\\site-packages (from pandas) (2023.3)\n",
      "Requirement already satisfied: six>=1.5 in c:\\users\\hp\\anaconda3\\lib\\site-packages (from python-dateutil>=2.8.2->pandas) (1.16.0)\n",
      "Requirement already satisfied: matplotlib in c:\\users\\hp\\anaconda3\\lib\\site-packages (3.8.4)\n",
      "Requirement already satisfied: contourpy>=1.0.1 in c:\\users\\hp\\anaconda3\\lib\\site-packages (from matplotlib) (1.2.0)\n",
      "Requirement already satisfied: cycler>=0.10 in c:\\users\\hp\\anaconda3\\lib\\site-packages (from matplotlib) (0.11.0)\n",
      "Requirement already satisfied: fonttools>=4.22.0 in c:\\users\\hp\\anaconda3\\lib\\site-packages (from matplotlib) (4.51.0)\n",
      "Requirement already satisfied: kiwisolver>=1.3.1 in c:\\users\\hp\\anaconda3\\lib\\site-packages (from matplotlib) (1.4.4)\n",
      "Requirement already satisfied: numpy>=1.21 in c:\\users\\hp\\anaconda3\\lib\\site-packages (from matplotlib) (1.26.4)\n",
      "Requirement already satisfied: packaging>=20.0 in c:\\users\\hp\\anaconda3\\lib\\site-packages (from matplotlib) (23.2)\n",
      "Requirement already satisfied: pillow>=8 in c:\\users\\hp\\anaconda3\\lib\\site-packages (from matplotlib) (10.3.0)\n",
      "Requirement already satisfied: pyparsing>=2.3.1 in c:\\users\\hp\\anaconda3\\lib\\site-packages (from matplotlib) (3.0.9)\n",
      "Requirement already satisfied: python-dateutil>=2.7 in c:\\users\\hp\\anaconda3\\lib\\site-packages (from matplotlib) (2.9.0.post0)\n",
      "Requirement already satisfied: six>=1.5 in c:\\users\\hp\\anaconda3\\lib\\site-packages (from python-dateutil>=2.7->matplotlib) (1.16.0)\n",
      "Requirement already satisfied: numpy in c:\\users\\hp\\anaconda3\\lib\\site-packages (1.26.4)\n",
      "Requirement already satisfied: scikit-learn in c:\\users\\hp\\anaconda3\\lib\\site-packages (1.4.2)\n",
      "Requirement already satisfied: numpy>=1.19.5 in c:\\users\\hp\\anaconda3\\lib\\site-packages (from scikit-learn) (1.26.4)\n",
      "Requirement already satisfied: scipy>=1.6.0 in c:\\users\\hp\\anaconda3\\lib\\site-packages (from scikit-learn) (1.13.1)\n",
      "Requirement already satisfied: joblib>=1.2.0 in c:\\users\\hp\\anaconda3\\lib\\site-packages (from scikit-learn) (1.4.2)\n",
      "Requirement already satisfied: threadpoolctl>=2.0.0 in c:\\users\\hp\\anaconda3\\lib\\site-packages (from scikit-learn) (2.2.0)\n",
      "Requirement already satisfied: tensorflow in c:\\users\\hp\\anaconda3\\lib\\site-packages (2.19.0)\n",
      "Requirement already satisfied: absl-py>=1.0.0 in c:\\users\\hp\\anaconda3\\lib\\site-packages (from tensorflow) (2.1.0)\n",
      "Requirement already satisfied: astunparse>=1.6.0 in c:\\users\\hp\\anaconda3\\lib\\site-packages (from tensorflow) (1.6.3)\n",
      "Requirement already satisfied: flatbuffers>=24.3.25 in c:\\users\\hp\\anaconda3\\lib\\site-packages (from tensorflow) (24.3.25)\n",
      "Requirement already satisfied: gast!=0.5.0,!=0.5.1,!=0.5.2,>=0.2.1 in c:\\users\\hp\\anaconda3\\lib\\site-packages (from tensorflow) (0.5.3)\n",
      "Requirement already satisfied: google-pasta>=0.1.1 in c:\\users\\hp\\anaconda3\\lib\\site-packages (from tensorflow) (0.2.0)\n",
      "Requirement already satisfied: libclang>=13.0.0 in c:\\users\\hp\\anaconda3\\lib\\site-packages (from tensorflow) (18.1.1)\n",
      "Requirement already satisfied: opt-einsum>=2.3.2 in c:\\users\\hp\\anaconda3\\lib\\site-packages (from tensorflow) (3.3.0)\n",
      "Requirement already satisfied: packaging in c:\\users\\hp\\anaconda3\\lib\\site-packages (from tensorflow) (23.2)\n",
      "Requirement already satisfied: protobuf!=4.21.0,!=4.21.1,!=4.21.2,!=4.21.3,!=4.21.4,!=4.21.5,<6.0.0dev,>=3.20.3 in c:\\users\\hp\\anaconda3\\lib\\site-packages (from tensorflow) (5.29.3)\n",
      "Requirement already satisfied: requests<3,>=2.21.0 in c:\\users\\hp\\anaconda3\\lib\\site-packages (from tensorflow) (2.32.2)\n",
      "Requirement already satisfied: setuptools in c:\\users\\hp\\anaconda3\\lib\\site-packages (from tensorflow) (69.5.1)\n",
      "Requirement already satisfied: six>=1.12.0 in c:\\users\\hp\\anaconda3\\lib\\site-packages (from tensorflow) (1.16.0)\n",
      "Requirement already satisfied: termcolor>=1.1.0 in c:\\users\\hp\\anaconda3\\lib\\site-packages (from tensorflow) (2.1.0)\n",
      "Requirement already satisfied: typing-extensions>=3.6.6 in c:\\users\\hp\\anaconda3\\lib\\site-packages (from tensorflow) (4.14.0)\n",
      "Requirement already satisfied: wrapt>=1.11.0 in c:\\users\\hp\\anaconda3\\lib\\site-packages (from tensorflow) (1.14.1)\n",
      "Requirement already satisfied: grpcio<2.0,>=1.24.3 in c:\\users\\hp\\anaconda3\\lib\\site-packages (from tensorflow) (1.71.0)\n",
      "Requirement already satisfied: tensorboard~=2.19.0 in c:\\users\\hp\\anaconda3\\lib\\site-packages (from tensorflow) (2.19.0)\n",
      "Requirement already satisfied: keras>=3.5.0 in c:\\users\\hp\\anaconda3\\lib\\site-packages (from tensorflow) (3.10.0)\n",
      "Requirement already satisfied: numpy<2.2.0,>=1.26.0 in c:\\users\\hp\\anaconda3\\lib\\site-packages (from tensorflow) (1.26.4)\n",
      "Requirement already satisfied: h5py>=3.11.0 in c:\\users\\hp\\anaconda3\\lib\\site-packages (from tensorflow) (3.11.0)\n",
      "Requirement already satisfied: ml-dtypes<1.0.0,>=0.5.1 in c:\\users\\hp\\anaconda3\\lib\\site-packages (from tensorflow) (0.5.1)\n",
      "Requirement already satisfied: wheel<1.0,>=0.23.0 in c:\\users\\hp\\anaconda3\\lib\\site-packages (from astunparse>=1.6.0->tensorflow) (0.43.0)\n",
      "Requirement already satisfied: rich in c:\\users\\hp\\anaconda3\\lib\\site-packages (from keras>=3.5.0->tensorflow) (13.3.5)\n",
      "Requirement already satisfied: namex in c:\\users\\hp\\anaconda3\\lib\\site-packages (from keras>=3.5.0->tensorflow) (0.0.7)\n",
      "Requirement already satisfied: optree in c:\\users\\hp\\anaconda3\\lib\\site-packages (from keras>=3.5.0->tensorflow) (0.14.1)\n",
      "Requirement already satisfied: charset-normalizer<4,>=2 in c:\\users\\hp\\anaconda3\\lib\\site-packages (from requests<3,>=2.21.0->tensorflow) (2.0.4)\n",
      "Requirement already satisfied: idna<4,>=2.5 in c:\\users\\hp\\anaconda3\\lib\\site-packages (from requests<3,>=2.21.0->tensorflow) (3.7)\n",
      "Requirement already satisfied: urllib3<3,>=1.21.1 in c:\\users\\hp\\anaconda3\\lib\\site-packages (from requests<3,>=2.21.0->tensorflow) (2.2.2)\n",
      "Requirement already satisfied: certifi>=2017.4.17 in c:\\users\\hp\\anaconda3\\lib\\site-packages (from requests<3,>=2.21.0->tensorflow) (2025.4.26)\n",
      "Requirement already satisfied: markdown>=2.6.8 in c:\\users\\hp\\anaconda3\\lib\\site-packages (from tensorboard~=2.19.0->tensorflow) (3.4.1)\n",
      "Requirement already satisfied: tensorboard-data-server<0.8.0,>=0.7.0 in c:\\users\\hp\\anaconda3\\lib\\site-packages (from tensorboard~=2.19.0->tensorflow) (0.7.0)\n",
      "Requirement already satisfied: werkzeug>=1.0.1 in c:\\users\\hp\\anaconda3\\lib\\site-packages (from tensorboard~=2.19.0->tensorflow) (3.0.3)\n",
      "Requirement already satisfied: MarkupSafe>=2.1.1 in c:\\users\\hp\\anaconda3\\lib\\site-packages (from werkzeug>=1.0.1->tensorboard~=2.19.0->tensorflow) (2.1.3)\n",
      "Requirement already satisfied: markdown-it-py<3.0.0,>=2.2.0 in c:\\users\\hp\\anaconda3\\lib\\site-packages (from rich->keras>=3.5.0->tensorflow) (2.2.0)\n",
      "Requirement already satisfied: pygments<3.0.0,>=2.13.0 in c:\\users\\hp\\anaconda3\\lib\\site-packages (from rich->keras>=3.5.0->tensorflow) (2.15.1)\n",
      "Requirement already satisfied: mdurl~=0.1 in c:\\users\\hp\\anaconda3\\lib\\site-packages (from markdown-it-py<3.0.0,>=2.2.0->rich->keras>=3.5.0->tensorflow) (0.1.0)\n",
      "Requirement already satisfied: seaborn in c:\\users\\hp\\anaconda3\\lib\\site-packages (0.13.2)\n",
      "Requirement already satisfied: numpy!=1.24.0,>=1.20 in c:\\users\\hp\\anaconda3\\lib\\site-packages (from seaborn) (1.26.4)\n",
      "Requirement already satisfied: pandas>=1.2 in c:\\users\\hp\\anaconda3\\lib\\site-packages (from seaborn) (2.2.2)\n",
      "Requirement already satisfied: matplotlib!=3.6.1,>=3.4 in c:\\users\\hp\\anaconda3\\lib\\site-packages (from seaborn) (3.8.4)\n",
      "Requirement already satisfied: contourpy>=1.0.1 in c:\\users\\hp\\anaconda3\\lib\\site-packages (from matplotlib!=3.6.1,>=3.4->seaborn) (1.2.0)\n",
      "Requirement already satisfied: cycler>=0.10 in c:\\users\\hp\\anaconda3\\lib\\site-packages (from matplotlib!=3.6.1,>=3.4->seaborn) (0.11.0)\n",
      "Requirement already satisfied: fonttools>=4.22.0 in c:\\users\\hp\\anaconda3\\lib\\site-packages (from matplotlib!=3.6.1,>=3.4->seaborn) (4.51.0)\n",
      "Requirement already satisfied: kiwisolver>=1.3.1 in c:\\users\\hp\\anaconda3\\lib\\site-packages (from matplotlib!=3.6.1,>=3.4->seaborn) (1.4.4)\n",
      "Requirement already satisfied: packaging>=20.0 in c:\\users\\hp\\anaconda3\\lib\\site-packages (from matplotlib!=3.6.1,>=3.4->seaborn) (23.2)\n",
      "Requirement already satisfied: pillow>=8 in c:\\users\\hp\\anaconda3\\lib\\site-packages (from matplotlib!=3.6.1,>=3.4->seaborn) (10.3.0)\n",
      "Requirement already satisfied: pyparsing>=2.3.1 in c:\\users\\hp\\anaconda3\\lib\\site-packages (from matplotlib!=3.6.1,>=3.4->seaborn) (3.0.9)\n",
      "Requirement already satisfied: python-dateutil>=2.7 in c:\\users\\hp\\anaconda3\\lib\\site-packages (from matplotlib!=3.6.1,>=3.4->seaborn) (2.9.0.post0)\n",
      "Requirement already satisfied: pytz>=2020.1 in c:\\users\\hp\\anaconda3\\lib\\site-packages (from pandas>=1.2->seaborn) (2024.1)\n",
      "Requirement already satisfied: tzdata>=2022.7 in c:\\users\\hp\\anaconda3\\lib\\site-packages (from pandas>=1.2->seaborn) (2023.3)\n",
      "Requirement already satisfied: six>=1.5 in c:\\users\\hp\\anaconda3\\lib\\site-packages (from python-dateutil>=2.7->matplotlib!=3.6.1,>=3.4->seaborn) (1.16.0)\n",
      "Requirement already satisfied: lasio in c:\\users\\hp\\anaconda3\\lib\\site-packages (0.31)\n",
      "Requirement already satisfied: numpy in c:\\users\\hp\\anaconda3\\lib\\site-packages (from lasio) (1.26.4)\n",
      "Requirement already satisfied: joblib in c:\\users\\hp\\anaconda3\\lib\\site-packages (1.4.2)\n",
      "Requirement already satisfied: ydata-profiling in c:\\users\\hp\\anaconda3\\lib\\site-packages (4.16.1)\n",
      "Requirement already satisfied: scipy<1.16,>=1.4.1 in c:\\users\\hp\\anaconda3\\lib\\site-packages (from ydata-profiling) (1.13.1)\n",
      "Requirement already satisfied: pandas!=1.4.0,<3.0,>1.1 in c:\\users\\hp\\anaconda3\\lib\\site-packages (from ydata-profiling) (2.2.2)\n",
      "Requirement already satisfied: matplotlib<=3.10,>=3.5 in c:\\users\\hp\\anaconda3\\lib\\site-packages (from ydata-profiling) (3.8.4)\n",
      "Requirement already satisfied: pydantic>=2 in c:\\users\\hp\\anaconda3\\lib\\site-packages (from ydata-profiling) (2.5.3)\n",
      "Requirement already satisfied: PyYAML<6.1,>=5.0.0 in c:\\users\\hp\\anaconda3\\lib\\site-packages (from ydata-profiling) (6.0.1)\n",
      "Requirement already satisfied: jinja2<3.2,>=2.11.1 in c:\\users\\hp\\anaconda3\\lib\\site-packages (from ydata-profiling) (3.1.4)\n",
      "Requirement already satisfied: visions<0.8.2,>=0.7.5 in c:\\users\\hp\\anaconda3\\lib\\site-packages (from visions[type_image_path]<0.8.2,>=0.7.5->ydata-profiling) (0.8.1)\n",
      "Requirement already satisfied: numpy<2.2,>=1.16.0 in c:\\users\\hp\\anaconda3\\lib\\site-packages (from ydata-profiling) (1.26.4)\n",
      "Requirement already satisfied: htmlmin==0.1.12 in c:\\users\\hp\\anaconda3\\lib\\site-packages (from ydata-profiling) (0.1.12)\n",
      "Requirement already satisfied: phik<0.13,>=0.11.1 in c:\\users\\hp\\anaconda3\\lib\\site-packages (from ydata-profiling) (0.12.4)\n",
      "Requirement already satisfied: requests<3,>=2.24.0 in c:\\users\\hp\\anaconda3\\lib\\site-packages (from ydata-profiling) (2.32.2)\n",
      "Requirement already satisfied: tqdm<5,>=4.48.2 in c:\\users\\hp\\anaconda3\\lib\\site-packages (from ydata-profiling) (4.66.4)\n",
      "Requirement already satisfied: seaborn<0.14,>=0.10.1 in c:\\users\\hp\\anaconda3\\lib\\site-packages (from ydata-profiling) (0.13.2)\n",
      "Requirement already satisfied: multimethod<2,>=1.4 in c:\\users\\hp\\anaconda3\\lib\\site-packages (from ydata-profiling) (1.12)\n",
      "Requirement already satisfied: statsmodels<1,>=0.13.2 in c:\\users\\hp\\anaconda3\\lib\\site-packages (from ydata-profiling) (0.14.2)\n",
      "Requirement already satisfied: typeguard<5,>=3 in c:\\users\\hp\\anaconda3\\lib\\site-packages (from ydata-profiling) (4.4.2)\n",
      "Requirement already satisfied: imagehash==4.3.1 in c:\\users\\hp\\anaconda3\\lib\\site-packages (from ydata-profiling) (4.3.1)\n",
      "Requirement already satisfied: wordcloud>=1.9.3 in c:\\users\\hp\\anaconda3\\lib\\site-packages (from ydata-profiling) (1.9.4)\n",
      "Requirement already satisfied: dacite>=1.8 in c:\\users\\hp\\anaconda3\\lib\\site-packages (from ydata-profiling) (1.9.2)\n",
      "Requirement already satisfied: numba<=0.61,>=0.56.0 in c:\\users\\hp\\anaconda3\\lib\\site-packages (from ydata-profiling) (0.59.1)\n",
      "Requirement already satisfied: PyWavelets in c:\\users\\hp\\anaconda3\\lib\\site-packages (from imagehash==4.3.1->ydata-profiling) (1.5.0)\n",
      "Requirement already satisfied: pillow in c:\\users\\hp\\anaconda3\\lib\\site-packages (from imagehash==4.3.1->ydata-profiling) (10.3.0)\n",
      "Requirement already satisfied: MarkupSafe>=2.0 in c:\\users\\hp\\anaconda3\\lib\\site-packages (from jinja2<3.2,>=2.11.1->ydata-profiling) (2.1.3)\n",
      "Requirement already satisfied: contourpy>=1.0.1 in c:\\users\\hp\\anaconda3\\lib\\site-packages (from matplotlib<=3.10,>=3.5->ydata-profiling) (1.2.0)\n",
      "Requirement already satisfied: cycler>=0.10 in c:\\users\\hp\\anaconda3\\lib\\site-packages (from matplotlib<=3.10,>=3.5->ydata-profiling) (0.11.0)\n",
      "Requirement already satisfied: fonttools>=4.22.0 in c:\\users\\hp\\anaconda3\\lib\\site-packages (from matplotlib<=3.10,>=3.5->ydata-profiling) (4.51.0)\n",
      "Requirement already satisfied: kiwisolver>=1.3.1 in c:\\users\\hp\\anaconda3\\lib\\site-packages (from matplotlib<=3.10,>=3.5->ydata-profiling) (1.4.4)\n",
      "Requirement already satisfied: packaging>=20.0 in c:\\users\\hp\\anaconda3\\lib\\site-packages (from matplotlib<=3.10,>=3.5->ydata-profiling) (23.2)\n",
      "Requirement already satisfied: pyparsing>=2.3.1 in c:\\users\\hp\\anaconda3\\lib\\site-packages (from matplotlib<=3.10,>=3.5->ydata-profiling) (3.0.9)\n",
      "Requirement already satisfied: python-dateutil>=2.7 in c:\\users\\hp\\anaconda3\\lib\\site-packages (from matplotlib<=3.10,>=3.5->ydata-profiling) (2.9.0.post0)\n",
      "Requirement already satisfied: llvmlite<0.43,>=0.42.0dev0 in c:\\users\\hp\\anaconda3\\lib\\site-packages (from numba<=0.61,>=0.56.0->ydata-profiling) (0.42.0)\n",
      "Requirement already satisfied: pytz>=2020.1 in c:\\users\\hp\\anaconda3\\lib\\site-packages (from pandas!=1.4.0,<3.0,>1.1->ydata-profiling) (2024.1)\n",
      "Requirement already satisfied: tzdata>=2022.7 in c:\\users\\hp\\anaconda3\\lib\\site-packages (from pandas!=1.4.0,<3.0,>1.1->ydata-profiling) (2023.3)\n",
      "Requirement already satisfied: joblib>=0.14.1 in c:\\users\\hp\\anaconda3\\lib\\site-packages (from phik<0.13,>=0.11.1->ydata-profiling) (1.4.2)\n",
      "Requirement already satisfied: annotated-types>=0.4.0 in c:\\users\\hp\\anaconda3\\lib\\site-packages (from pydantic>=2->ydata-profiling) (0.6.0)\n",
      "Requirement already satisfied: pydantic-core==2.14.6 in c:\\users\\hp\\anaconda3\\lib\\site-packages (from pydantic>=2->ydata-profiling) (2.14.6)\n",
      "Requirement already satisfied: typing-extensions>=4.6.1 in c:\\users\\hp\\anaconda3\\lib\\site-packages (from pydantic>=2->ydata-profiling) (4.14.0)\n",
      "Requirement already satisfied: charset-normalizer<4,>=2 in c:\\users\\hp\\anaconda3\\lib\\site-packages (from requests<3,>=2.24.0->ydata-profiling) (2.0.4)\n",
      "Requirement already satisfied: idna<4,>=2.5 in c:\\users\\hp\\anaconda3\\lib\\site-packages (from requests<3,>=2.24.0->ydata-profiling) (3.7)\n",
      "Requirement already satisfied: urllib3<3,>=1.21.1 in c:\\users\\hp\\anaconda3\\lib\\site-packages (from requests<3,>=2.24.0->ydata-profiling) (2.2.2)\n",
      "Requirement already satisfied: certifi>=2017.4.17 in c:\\users\\hp\\anaconda3\\lib\\site-packages (from requests<3,>=2.24.0->ydata-profiling) (2025.4.26)\n",
      "Requirement already satisfied: patsy>=0.5.6 in c:\\users\\hp\\anaconda3\\lib\\site-packages (from statsmodels<1,>=0.13.2->ydata-profiling) (0.5.6)\n",
      "Requirement already satisfied: colorama in c:\\users\\hp\\anaconda3\\lib\\site-packages (from tqdm<5,>=4.48.2->ydata-profiling) (0.4.6)\n",
      "Requirement already satisfied: attrs>=19.3.0 in c:\\users\\hp\\anaconda3\\lib\\site-packages (from visions<0.8.2,>=0.7.5->visions[type_image_path]<0.8.2,>=0.7.5->ydata-profiling) (23.1.0)\n",
      "Requirement already satisfied: networkx>=2.4 in c:\\users\\hp\\anaconda3\\lib\\site-packages (from visions<0.8.2,>=0.7.5->visions[type_image_path]<0.8.2,>=0.7.5->ydata-profiling) (3.2.1)\n",
      "Requirement already satisfied: puremagic in c:\\users\\hp\\anaconda3\\lib\\site-packages (from visions<0.8.2,>=0.7.5->visions[type_image_path]<0.8.2,>=0.7.5->ydata-profiling) (1.29)\n",
      "Requirement already satisfied: six in c:\\users\\hp\\anaconda3\\lib\\site-packages (from patsy>=0.5.6->statsmodels<1,>=0.13.2->ydata-profiling) (1.16.0)\n"
     ]
    }
   ],
   "source": [
    "!pip install pandas\n",
    "!pip install matplotlib\n",
    "!pip install numpy\n",
    "!pip install scikit-learn\n",
    "!pip install tensorflow\n",
    "!pip install seaborn\n",
    "!pip install lasio\n",
    "!pip install joblib\n",
    "!pip install ydata-profiling"
   ]
  },
  {
   "cell_type": "code",
   "execution_count": 2,
   "id": "b4b7faf6-1629-4c61-a6d1-2df55c8fb2b4",
   "metadata": {
    "editable": true,
    "slideshow": {
     "slide_type": ""
    },
    "tags": []
   },
   "outputs": [
    {
     "ename": "FileNotFoundError",
     "evalue": "[Errno 2] No such file or directory: 'deep_ensemble.pkl'",
     "output_type": "error",
     "traceback": [
      "\u001b[1;31m---------------------------------------------------------------------------\u001b[0m",
      "\u001b[1;31mFileNotFoundError\u001b[0m                         Traceback (most recent call last)",
      "Cell \u001b[1;32mIn[2], line 6\u001b[0m\n\u001b[0;32m      2\u001b[0m \u001b[38;5;28;01mimport\u001b[39;00m \u001b[38;5;21;01mjoblib\u001b[39;00m\n\u001b[0;32m      5\u001b[0m \u001b[38;5;66;03m# Load the ensemble configuration\u001b[39;00m\n\u001b[1;32m----> 6\u001b[0m final_models \u001b[38;5;241m=\u001b[39m joblib\u001b[38;5;241m.\u001b[39mload(\u001b[38;5;124m'\u001b[39m\u001b[38;5;124mdeep_ensemble.pkl\u001b[39m\u001b[38;5;124m'\u001b[39m)\n\u001b[0;32m      8\u001b[0m \u001b[38;5;66;03m# Load each model in the ensemble\u001b[39;00m\n\u001b[0;32m      9\u001b[0m \u001b[38;5;28;01mfor\u001b[39;00m i \u001b[38;5;129;01min\u001b[39;00m \u001b[38;5;28mrange\u001b[39m(\u001b[38;5;28mlen\u001b[39m(final_models)):\n",
      "File \u001b[1;32m~\\anaconda3\\Lib\\site-packages\\joblib\\numpy_pickle.py:650\u001b[0m, in \u001b[0;36mload\u001b[1;34m(filename, mmap_mode)\u001b[0m\n\u001b[0;32m    648\u001b[0m         obj \u001b[38;5;241m=\u001b[39m _unpickle(fobj)\n\u001b[0;32m    649\u001b[0m \u001b[38;5;28;01melse\u001b[39;00m:\n\u001b[1;32m--> 650\u001b[0m     \u001b[38;5;28;01mwith\u001b[39;00m \u001b[38;5;28mopen\u001b[39m(filename, \u001b[38;5;124m'\u001b[39m\u001b[38;5;124mrb\u001b[39m\u001b[38;5;124m'\u001b[39m) \u001b[38;5;28;01mas\u001b[39;00m f:\n\u001b[0;32m    651\u001b[0m         \u001b[38;5;28;01mwith\u001b[39;00m _read_fileobject(f, filename, mmap_mode) \u001b[38;5;28;01mas\u001b[39;00m fobj:\n\u001b[0;32m    652\u001b[0m             \u001b[38;5;28;01mif\u001b[39;00m \u001b[38;5;28misinstance\u001b[39m(fobj, \u001b[38;5;28mstr\u001b[39m):\n\u001b[0;32m    653\u001b[0m                 \u001b[38;5;66;03m# if the returned file object is a string, this means we\u001b[39;00m\n\u001b[0;32m    654\u001b[0m                 \u001b[38;5;66;03m# try to load a pickle file generated with an version of\u001b[39;00m\n\u001b[0;32m    655\u001b[0m                 \u001b[38;5;66;03m# Joblib so we load it with joblib compatibility function.\u001b[39;00m\n",
      "\u001b[1;31mFileNotFoundError\u001b[0m: [Errno 2] No such file or directory: 'deep_ensemble.pkl'"
     ]
    }
   ],
   "source": [
    "import tensorflow as tf\n",
    "import joblib\n",
    "\n",
    "\n",
    "# Load the ensemble configuration\n",
    "final_models = joblib.load('deep_ensemble.pkl')\n",
    "\n",
    "# Load each model in the ensemble\n",
    "for i in range(len(final_models)):\n",
    "    model_path = f'ensemble_model_{i+1}.h5'\n",
    "    final_models[i] = tf.keras.models.load_model(model_path)\n",
    "\n",
    "print(\"Deep Ensemble Models Loaded.\")"
   ]
  },
  {
   "cell_type": "code",
   "execution_count": null,
   "id": "253aac62-a4f4-45c1-804c-70df320786e9",
   "metadata": {},
   "outputs": [],
   "source": [
    "import lasio\n",
    "import pandas as pd\n",
    "from ydata_profiling import ProfileReport"
   ]
  },
  {
   "cell_type": "code",
   "execution_count": null,
   "id": "cf05613b-c7ac-423c-b456-52d57b3a8078",
   "metadata": {},
   "outputs": [],
   "source": [
    "file_paths = [\n",
    "    'Project_well_logs/TMG-1-logs.las',  \n",
    "   #'Project_well_logs/TMG-07-LOGS.LAS',\n",
    "    #'Data/Well logs/TMB-4-LOGS.LAS',\n",
    "    #'Data/Well logs/TMG-02-logs.LAS'\n",
    "]"
   ]
  },
  {
   "cell_type": "code",
   "execution_count": null,
   "id": "d269fc83-3f98-4a00-977b-acdb4afc63f3",
   "metadata": {},
   "outputs": [],
   "source": [
    "# Initialize an empty list to store DataFrames\n",
    "dataframes = []\n",
    "\n",
    "for file_path in file_paths:\n",
    "    print(f\"Loading {file_path}...\")\n",
    "    \n",
    "    # Load the LAS file\n",
    "    las = lasio.read(file_path)\n",
    "    \n",
    "    # Convert LAS data to a Pandas DataFrame\n",
    "    df = las.df()\n",
    "    \n",
    "    # Reset index to make 'DEPT' (or equivalent depth column) a regular column\n",
    "    df.reset_index(inplace=True)\n",
    "    \n",
    "    # Add a column to identify the well\n",
    "    well_name = file_path.split('.')[0]  # Extract well name from file name\n",
    "    df['Well'] = well_name\n",
    "    \n",
    "    # Append to the list of DataFrames\n",
    "    dataframes.append(df)\n",
    "\n",
    "# Concatenate all DataFrames\n",
    "combined_data = pd.concat(dataframes, ignore_index=True)\n",
    "\n",
    "# Display the combined DataFrame\n",
    "print(\"Combined Data:\")\n",
    "print(combined_data.head())\n",
    "print(f\"Shape of Combined Data: {combined_data.shape}\")\n",
    "\n",
    "# Generate a profile report\n",
    "profile = ProfileReport(combined_data, title=\"Well Log Data Profiling Report\", explorative=True)\n",
    "\n",
    "# Display the report in Jupyter Notebook\n",
    "profile.to_notebook_iframe()"
   ]
  },
  {
   "cell_type": "code",
   "execution_count": null,
   "id": "0f64a1a2-bc0d-4918-81c7-b1b4d98fa568",
   "metadata": {},
   "outputs": [],
   "source": [
    "# Step 1: Drop rows with missing values\n",
    "combined_data_cleaned = combined_data.dropna()\n",
    "\n",
    "# Step 2: Drop rows with zero values in specified columns\n",
    "columns_to_check = ['IMPEDANCE', 'DT', 'PHI', 'RHOB']  # Add other columns as needed\n",
    "mask = combined_data_cleaned[columns_to_check].eq(0).any(axis=1)\n",
    "combined_data_cleaned = combined_data_cleaned[~mask]\n",
    "\n",
    "# Check the final shape of the cleaned data\n",
    "print(f\"Final Shape After Cleaning: {combined_data_cleaned.shape}\")"
   ]
  },
  {
   "cell_type": "code",
   "execution_count": null,
   "id": "07033984-d0cf-4a56-bee8-5edcbed2d627",
   "metadata": {},
   "outputs": [],
   "source": [
    "# Check for missing values\n",
    "missing_values = combined_data_cleaned.isnull().sum()\n",
    "print(\"Missing Values After Cleaning:\")\n",
    "print(missing_values)\n",
    "\n",
    "# Check for zero values in specified columns\n",
    "zero_values = (combined_data_cleaned[columns_to_check] == 0).sum()\n",
    "print(\"\\nZero Values After Cleaning:\")\n",
    "print(zero_values)"
   ]
  },
  {
   "cell_type": "code",
   "execution_count": null,
   "id": "0add59a3-72aa-4b7d-9d2a-bfd2e522ce67",
   "metadata": {},
   "outputs": [],
   "source": [
    "%matplotlib inline"
   ]
  },
  {
   "cell_type": "code",
   "execution_count": null,
   "id": "114fab9a-6c25-43c7-9783-4d7ae1626b60",
   "metadata": {},
   "outputs": [],
   "source": [
    "# Save the cleaned data to a CSV file\n",
    "combined_data_cleaned.to_csv('cleaned_well_data.csv', index=False)\n",
    "print(\"Cleaned data saved to 'cleaned_well_data.csv'\")"
   ]
  },
  {
   "cell_type": "code",
   "execution_count": null,
   "id": "b8832159-8a26-4ccd-9f85-5e032713722d",
   "metadata": {},
   "outputs": [],
   "source": [
    "gr_min = combined_data_cleaned['GR'].min()\n",
    "gr_max = combined_data_cleaned['GR'].max()\n",
    "combined_data_cleaned['V_sh'] = (combined_data_cleaned['GR'] - gr_min) / (gr_max - gr_min)"
   ]
  },
  {
   "cell_type": "code",
   "execution_count": null,
   "id": "0fd48e4a-8def-4466-96bb-ff282cab91f2",
   "metadata": {},
   "outputs": [],
   "source": [
    "rho_ma = 2.65  # Matrix density (g/cm3)\n",
    "rho_fluid = 1.0  # Fluid density (g/cm3)\n",
    "combined_data_cleaned['Density_Porosity'] = (rho_ma - combined_data_cleaned['RHOB']) / (rho_ma - rho_fluid)"
   ]
  },
  {
   "cell_type": "code",
   "execution_count": null,
   "id": "ae201848-bda0-4db1-b392-6e3e3319d9b1",
   "metadata": {},
   "outputs": [],
   "source": [
    "dt_shale = 189  # Shale travel time in μs/ft\n",
    "dt_matrix = 55   # Matrix travel time in μs/ft\n",
    "combined_data_cleaned['Sonic_Porosity'] = (combined_data_cleaned['DT'] - dt_matrix) / (dt_shale - dt_matrix)"
   ]
  },
  {
   "cell_type": "code",
   "execution_count": null,
   "id": "59f56d12-3e66-4c47-875e-4a82922483ca",
   "metadata": {},
   "outputs": [],
   "source": [
    "combined_data_cleaned['Velocity'] = combined_data_cleaned['IMPEDANCE'] / combined_data_cleaned['RHOB']"
   ]
  },
  {
   "cell_type": "code",
   "execution_count": null,
   "id": "a6e0db00-eb9c-4aec-a0b2-60ac0eaf3b28",
   "metadata": {},
   "outputs": [],
   "source": [
    "amplitude_min = combined_data_cleaned['AMPLITUDE'].min()\n",
    "amplitude_max = combined_data_cleaned['AMPLITUDE'].max()\n",
    "combined_data_cleaned['Amplitude_Norm'] = (combined_data_cleaned['AMPLITUDE'] - amplitude_min) / (amplitude_max - amplitude_min)"
   ]
  },
  {
   "cell_type": "code",
   "execution_count": null,
   "id": "ae1f7973-c0c3-4d5f-b9e6-8c16cdbe399a",
   "metadata": {},
   "outputs": [],
   "source": [
    "frequency_min = combined_data_cleaned['FREQUENCY'].min()\n",
    "frequency_max = combined_data_cleaned['FREQUENCY'].max()\n",
    "combined_data_cleaned['Frequency_Norm'] = (combined_data_cleaned['FREQUENCY'] - frequency_min) / (frequency_max - frequency_min)"
   ]
  },
  {
   "cell_type": "code",
   "execution_count": null,
   "id": "850e8aab-66d4-402f-8e80-157ed0327a66",
   "metadata": {},
   "outputs": [],
   "source": [
    "combined_data_cleaned['Velocity_Frequency'] = combined_data_cleaned['Velocity'] * combined_data_cleaned['Frequency_Norm']"
   ]
  },
  {
   "cell_type": "code",
   "execution_count": null,
   "id": "b9b021fd-7c3b-479c-ab51-ea5948a30557",
   "metadata": {},
   "outputs": [],
   "source": [
    "combined_data_cleaned['GR_Impedance'] = combined_data_cleaned['GR'] * combined_data_cleaned['IMPEDANCE']"
   ]
  },
  {
   "cell_type": "code",
   "execution_count": null,
   "id": "96603c35-c2e0-4350-bf82-c61f6aa450d5",
   "metadata": {},
   "outputs": [],
   "source": [
    "window_size = 5  # Adjust as needed\n",
    "\n",
    "# Apply moving average to GR\n",
    "combined_data_cleaned['GR_MA'] = combined_data_cleaned['GR'].rolling(window=window_size, center=True).mean()\n",
    "\n",
    "# Apply moving average to RHOB\n",
    "combined_data_cleaned['RHOB_MA'] = combined_data_cleaned['RHOB'].rolling(window=window_size, center=True).mean()\n",
    "\n",
    "# Apply moving average to DT\n",
    "combined_data_cleaned['DT_MA'] = combined_data_cleaned['DT'].rolling(window=window_size, center=True).mean()"
   ]
  },
  {
   "cell_type": "code",
   "execution_count": null,
   "id": "7b6ca7dc-7b49-42b4-b18d-66caeea2ccf6",
   "metadata": {},
   "outputs": [],
   "source": [
    "import matplotlib.pyplot as plt\n",
    "plt.figure(figsize=(10, 6))\n",
    "plt.plot(combined_data_cleaned['DEPT'], combined_data_cleaned['GR'], label='Original GR', color='blue', alpha=0.5)\n",
    "plt.plot(combined_data_cleaned['DEPT'], combined_data_cleaned['GR_MA'], label='Moving Average', color='red')\n",
    "plt.gca().invert_yaxis()  # Invert y-axis for depth\n",
    "plt.xlabel('Depth (m)')\n",
    "plt.ylabel('Gamma Ray (API)')\n",
    "plt.title('Gamma Ray with Moving Average')\n",
    "plt.legend()\n",
    "plt.grid(True)\n",
    "plt.show()\n",
    "\n",
    "plt.figure(figsize=(10, 6))\n",
    "plt.plot(combined_data_cleaned['DEPT'], combined_data_cleaned['DT'], label='Original DT', color='blue', alpha=0.5)\n",
    "plt.plot(combined_data_cleaned['DEPT'], combined_data_cleaned['DT_MA'], label='Moving Average', color='red')\n",
    "plt.gca().invert_yaxis()  # Invert y-axis for depth\n",
    "plt.xlabel('Depth (m)')\n",
    "plt.ylabel('DT (API)')\n",
    "plt.title('DT with Moving Average')\n",
    "plt.legend()\n",
    "plt.grid(True)\n",
    "plt.show()\n",
    "\n",
    "plt.figure(figsize=(10, 6))\n",
    "plt.plot(combined_data_cleaned['DEPT'], combined_data_cleaned['RHOB'], label='Original RHOB', color='blue', alpha=0.5)\n",
    "plt.plot(combined_data_cleaned['DEPT'], combined_data_cleaned['RHOB_MA'], label='Moving Average', color='red')\n",
    "plt.gca().invert_yaxis()  # Invert y-axis for depth\n",
    "plt.xlabel('Depth (m)')\n",
    "plt.ylabel('RHOB (API)')\n",
    "plt.title('RHOB with Moving Average')\n",
    "plt.legend()\n",
    "plt.grid(True)\n",
    "plt.show()"
   ]
  },
  {
   "cell_type": "code",
   "execution_count": null,
   "id": "c4ed855e-b368-4ca9-83be-043d01837ad4",
   "metadata": {},
   "outputs": [],
   "source": [
    "import numpy as np\n",
    "# Compute gradient of GR with respect to depth\n",
    "combined_data_cleaned['GR_Gradient'] = np.gradient(combined_data_cleaned['GR'], combined_data_cleaned['DEPT'])\n",
    "\n",
    "# Compute gradient of RHOB with respect to depth\n",
    "combined_data_cleaned['RHOB_Gradient'] = np.gradient(combined_data_cleaned['RHOB'], combined_data_cleaned['DEPT'])\n",
    "\n",
    "# Compute gradient of DT with respect to depth\n",
    "combined_data_cleaned['DT_Gradient'] = np.gradient(combined_data_cleaned['DT'], combined_data_cleaned['DEPT'])"
   ]
  },
  {
   "cell_type": "code",
   "execution_count": null,
   "id": "6d25c210-e584-4096-ba41-922382d3a0eb",
   "metadata": {},
   "outputs": [],
   "source": [
    "combined_data_cleaned['Amplitude_Impedance'] = combined_data_cleaned['Amplitude_Norm'] * combined_data_cleaned['IMPEDANCE']\n",
    "combined_data_cleaned['Frequency_Impedance'] = combined_data_cleaned['Frequency_Norm'] * combined_data_cleaned['IMPEDANCE']"
   ]
  },
  {
   "cell_type": "code",
   "execution_count": null,
   "id": "374c8b8a-5811-4e70-bb30-4d88a863db89",
   "metadata": {},
   "outputs": [],
   "source": [
    "from sklearn.preprocessing import MinMaxScaler, StandardScaler\n",
    "import numpy as np\n",
    "\n",
    "X = combined_data_cleaned.drop(columns=['PHI', 'DEPT', 'Well'], errors='ignore') \n",
    "y = combined_data_cleaned['PHI']  \n",
    "\n",
    "\n",
    "scaler_X = StandardScaler()\n",
    "X_normalized = scaler_X.fit_transform(X)\n",
    "\n",
    "# Step 3: Scale the target variable (PHI) using MinMaxScaler\n",
    "# Porosity values should be scaled to a range of [0, 1] for better interpretability\n",
    "scaler_y = MinMaxScaler(feature_range=(0, 1))\n",
    "y_normalized = scaler_y.fit_transform(y.values.reshape(-1, 1)).flatten()\n",
    "\n",
    "# Step 4: Combine normalized data into a single DataFrame (optional)\n",
    "combined_data_normalized = pd.DataFrame(X_normalized, columns=X.columns)\n",
    "combined_data_normalized['PHI'] = y_normalized  # Add the normalized target variable back\n",
    "\n",
    "# Inspect the normalized data\n",
    "print(\"Normalized Data Overview:\")\n",
    "print(combined_data_normalized.head())"
   ]
  },
  {
   "cell_type": "code",
   "execution_count": null,
   "id": "55f6b23e-25d8-4c70-a411-8ada1fb27802",
   "metadata": {},
   "outputs": [],
   "source": [
    "# Check for missing values\n",
    "missing_values = combined_data_normalized.isnull().sum()\n",
    "print(\"Missing Values After Normalizing:\")\n",
    "print(missing_values)\n",
    "\n",
    "# Check for zero values in specified columns\n",
    "zero_values = (combined_data_normalized[columns_to_check] == 0).sum()\n",
    "print(\"\\nZero Values After Normalizing:\")\n",
    "print(zero_values)"
   ]
  },
  {
   "cell_type": "code",
   "execution_count": null,
   "id": "dfb00b83-8610-43f2-946b-525a7368e8d5",
   "metadata": {},
   "outputs": [],
   "source": [
    "# Step 1: Drop rows with missing values\n",
    "combined_data_normalized = combined_data_normalized.dropna()\n",
    "\n",
    "# Step 2: Drop rows with zero values in specified columns\n",
    "columns_to_check = ['GR_MA','GR_Gradient','V_sh']  \n",
    "mask = combined_data_normalized[columns_to_check].eq(0).any(axis=1)\n",
    "combined_data_normalized = combined_data_normalized[~mask]\n",
    "\n",
    "# Check the final shape of the cleaned data\n",
    "print(f\"Final Shape After Cleaning: {combined_data_normalized.shape}\")"
   ]
  },
  {
   "cell_type": "code",
   "execution_count": null,
   "id": "b0be114b-cc20-4857-b6d2-244ce8acfe51",
   "metadata": {},
   "outputs": [],
   "source": [
    "# Define input features (X) and target variable (y)\n",
    "target_column = 'PHI' \n",
    "\n",
    "X = combined_data_normalized.drop(columns=[target_column, 'Well', 'DEPT'], errors='ignore')  \n",
    "y = combined_data_normalized[target_column]\n",
    "\n",
    "# Check the shapes of X and y\n",
    "print(\"\\nInput Features Shape:\", X.shape)\n",
    "print(\"Target Variable Shape:\", y.shape)\n"
   ]
  },
  {
   "cell_type": "code",
   "execution_count": null,
   "id": "5610c46c-06ce-41ba-91fe-6735d13d0081",
   "metadata": {},
   "outputs": [],
   "source": [
    "from sklearn.metrics import mean_squared_error\n",
    "# Make predictions using the ensemble\n",
    "y_preds = np.array([model.predict(X).flatten() for model in final_models])\n",
    "y_pred_mean = y_preds.mean(axis=0)\n",
    "y_pred_std = y_preds.std(axis=0)\n",
    "\n",
    "# Evaluate performance\n",
    "mse = mean_squared_error(y, y_pred_mean)\n",
    "print(f\"Final Mean Squared Error: {mse}\")"
   ]
  },
  {
   "cell_type": "code",
   "execution_count": null,
   "id": "ebd57cab-1ad7-484d-a71a-db886d9a589b",
   "metadata": {},
   "outputs": [],
   "source": [
    "%matplotlib inline"
   ]
  },
  {
   "cell_type": "code",
   "execution_count": null,
   "id": "dce6ad3f-5cca-472b-aba6-d9e4c5fc1c39",
   "metadata": {},
   "outputs": [],
   "source": [
    "import matplotlib.pyplot as plt\n",
    "\n",
    "plt.figure(figsize=(8, 6))\n",
    "plt.fill_between(range(len(y_pred_mean)), y_pred_mean - 2 * y_pred_std, y_pred_mean + 2 * y_pred_std, color='green', alpha=1, label='95% CI')\n",
    "plt.plot(y_pred_mean, label='True Porosity', color='blue')\n",
    "plt.plot(y, label='Predicted Porosity', color='red')\n",
    "\n",
    "\n",
    "plt.legend()\n",
    "plt.title('Porosity Prediction with Uncertainty (Deep Ensemble)')\n",
    "plt.show()"
   ]
  },
  {
   "cell_type": "code",
   "execution_count": null,
   "id": "7c150dac-d8af-4eef-ae76-b9d9ecb1feb1",
   "metadata": {},
   "outputs": [],
   "source": [
    "y"
   ]
  },
  {
   "cell_type": "code",
   "execution_count": null,
   "id": "2070246b-3520-4758-8349-65f7f7b6da88",
   "metadata": {},
   "outputs": [],
   "source": [
    "y_pred_mean"
   ]
  },
  {
   "cell_type": "code",
   "execution_count": null,
   "id": "6949c8f5-563a-4a54-902a-eabab833eb25",
   "metadata": {},
   "outputs": [],
   "source": []
  }
 ],
 "metadata": {
  "kernelspec": {
   "display_name": "Python 3 (ipykernel)",
   "language": "python",
   "name": "python3"
  },
  "language_info": {
   "codemirror_mode": {
    "name": "ipython",
    "version": 3
   },
   "file_extension": ".py",
   "mimetype": "text/x-python",
   "name": "python",
   "nbconvert_exporter": "python",
   "pygments_lexer": "ipython3",
   "version": "3.12.4"
  }
 },
 "nbformat": 4,
 "nbformat_minor": 5
}
