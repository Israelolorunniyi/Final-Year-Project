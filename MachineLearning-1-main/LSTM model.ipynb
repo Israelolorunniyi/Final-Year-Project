{
 "cells": [
  {
   "cell_type": "code",
   "execution_count": 2,
   "id": "5a0f2286-0943-44e4-add3-e43027a18caa",
   "metadata": {
    "editable": true,
    "slideshow": {
     "slide_type": ""
    },
    "tags": []
   },
   "outputs": [
    {
     "ename": "NameError",
     "evalue": "name 'Input' is not defined",
     "output_type": "error",
     "traceback": [
      "\u001b[1;31m---------------------------------------------------------------------------\u001b[0m",
      "\u001b[1;31mNameError\u001b[0m                                 Traceback (most recent call last)",
      "Cell \u001b[1;32mIn[2], line 37\u001b[0m\n\u001b[0;32m     34\u001b[0m X_train, X_test, y_train, y_test \u001b[38;5;241m=\u001b[39m train_test_split(X, y, test_size\u001b[38;5;241m=\u001b[39m\u001b[38;5;241m0.2\u001b[39m, random_state\u001b[38;5;241m=\u001b[39m\u001b[38;5;241m42\u001b[39m)\n\u001b[0;32m     36\u001b[0m \u001b[38;5;66;03m# LSTM Model Definition\u001b[39;00m\n\u001b[1;32m---> 37\u001b[0m input_layer \u001b[38;5;241m=\u001b[39m Input(shape\u001b[38;5;241m=\u001b[39m(X\u001b[38;5;241m.\u001b[39mshape[\u001b[38;5;241m1\u001b[39m], X\u001b[38;5;241m.\u001b[39mshape[\u001b[38;5;241m2\u001b[39m]))\n\u001b[0;32m     38\u001b[0m x \u001b[38;5;241m=\u001b[39m LSTM(\u001b[38;5;241m64\u001b[39m, return_sequences\u001b[38;5;241m=\u001b[39m\u001b[38;5;28;01mTrue\u001b[39;00m)(input_layer)\n\u001b[0;32m     39\u001b[0m x \u001b[38;5;241m=\u001b[39m Dropout(\u001b[38;5;241m0.3\u001b[39m)(x)\n",
      "\u001b[1;31mNameError\u001b[0m: name 'Input' is not defined"
     ]
    }
   ],
   "source": [
    "# LSTM-PINN Hybrid Model for Predicting Missing Well Logs\n",
    "# Author: [Your Name]\n",
    "# Date: [Date]\n",
    "\n",
    "import numpy as np\n",
    "import pandas as pd\n",
    "import tensorflow as tf\n",
    "#from tensorflow.keras.models import Model\n",
    "#from tensorflow.keras.preprocessing.image import ImageDataGenerator\n",
    "#from tensorflow.keras.layers import Rescaling, Resizing, CenterCrop\n",
    "#from tensorflow.keras.layers import Input, LSTM, Dense, Dropout\n",
    "from sklearn.preprocessing import MinMaxScaler\n",
    "from sklearn.model_selection import train_test_split\n",
    "import matplotlib.pyplot as plt\n",
    "\n",
    "# Load dataset\n",
    "df = pd.read_csv('cleaned_well_data.csv')  \n",
    "\n",
    "# Define features and targets\n",
    "input_features = ['SP:1', 'PHIE:1', 'VSH', 'SP:2']\n",
    "target_logs = ['RES', 'GR', 'RHOB:1']\n",
    "\n",
    "# Scale features\n",
    "scaler_x = MinMaxScaler()\n",
    "scaler_y = MinMaxScaler()\n",
    "\n",
    "X = scaler_x.fit_transform(df[input_features])\n",
    "y = scaler_y.fit_transform(df[target_logs])\n",
    "\n",
    "# Reshape input for LSTM\n",
    "X = X.reshape((X.shape[0], 1, X.shape[1]))\n",
    "\n",
    "# Split dataset\n",
    "X_train, X_test, y_train, y_test = train_test_split(X, y, test_size=0.2, random_state=42)\n",
    "\n",
    "# LSTM Model Definition\n",
    "input_layer = Input(shape=(X.shape[1], X.shape[2]))\n",
    "x = LSTM(64, return_sequences=True)(input_layer)\n",
    "x = Dropout(0.3)(x)\n",
    "x = LSTM(32)(x)\n",
    "x = Dropout(0.2)(x)\n",
    "output_layer = Dense(3)(x)  # Multivariate output\n",
    "\n",
    "model = Model(inputs=input_layer, outputs=output_layer)\n",
    "\n",
    "# Physics-Informed Component (dummy placeholder for physical residuals)\n"
   ]
  },
  {
   "cell_type": "markdown",
   "id": "c9c252a5-8149-48fb-b4fd-9621d806c63e",
   "metadata": {},
   "source": [
    "## Physics Informed Neural Network"
   ]
  },
  {
   "cell_type": "code",
   "execution_count": null,
   "id": "0501461a-1cd7-43e2-b20f-4cbdaa4d8ae0",
   "metadata": {
    "editable": true,
    "slideshow": {
     "slide_type": ""
    },
    "tags": []
   },
   "outputs": [],
   "source": [
    "def physics_loss(y_true, y_pred):\n",
    "    # Example: Encourage resistivity predictions to follow smooth transitions\n",
    "    smooth_penalty = tf.reduce_mean(tf.square(y_pred[:, 0][1:] - y_pred[:, 0][:-1]))\n",
    "    data_loss = tf.reduce_mean(tf.square(y_true - y_pred))\n",
    "    return data_loss + 0.01 * smooth_penalty\n",
    "\n",
    "model.compile(optimizer='adam', loss=physics_loss, metrics=['mae'])\n",
    "model.summary()\n",
    "\n",
    "# Train the model\n",
    "history = model.fit(X_train, y_train, epochs=50, batch_size=32, validation_data=(X_test, y_test))\n",
    "\n",
    "# Make predictions\n",
    "y_pred = model.predict(X_test)\n",
    "y_pred_rescaled = scaler_y.inverse_transform(y_pred)\n",
    "y_test_rescaled = scaler_y.inverse_transform(y_test)\n",
    "\n",
    "# Visualization\n",
    "plt.figure(figsize=(12,5))\n",
    "plt.plot(y_test_rescaled[:, 0], label='True RT')\n",
    "plt.plot(y_pred_rescaled[:, 0], label='Predicted RT')\n",
    "plt.title(\"Resistivity (RT) Prediction\")\n",
    "plt.legend()\n",
    "plt.show()\n",
    "\n",
    "# Save the model\n",
    "model.save('lstm_pinn_well_log_model.h5')\n"
   ]
  }
 ],
 "metadata": {
  "kernelspec": {
   "display_name": "Python 3 (ipykernel)",
   "language": "python",
   "name": "python3"
  },
  "language_info": {
   "codemirror_mode": {
    "name": "ipython",
    "version": 3
   },
   "file_extension": ".py",
   "mimetype": "text/x-python",
   "name": "python",
   "nbconvert_exporter": "python",
   "pygments_lexer": "ipython3",
   "version": "3.12.4"
  }
 },
 "nbformat": 4,
 "nbformat_minor": 5
}
