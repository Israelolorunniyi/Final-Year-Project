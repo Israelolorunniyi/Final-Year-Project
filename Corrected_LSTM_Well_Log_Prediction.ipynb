{
 "cells": [
  {
   "cell_type": "markdown",
   "id": "f04204ce",
   "metadata": {},
   "source": [
    "# LSTM Well Log Prediction (Corrected Final Year Project Code)\n",
    "This notebook fixes previous issues with proper sequence preparation, physics-informed loss, early stopping, and correct visualization."
   ]
  },
  {
   "cell_type": "code",
   "execution_count": 127,
   "id": "b4e45250",
   "metadata": {},
   "outputs": [],
   "source": [
    "\n",
    "import numpy as np\n",
    "import pandas as pd\n",
    "import tensorflow as tf\n",
    "from tensorflow.keras.models import Model, Sequential\n",
    "from tensorflow.keras.layers import LSTM, Dense, Dropout, Input\n",
    "from tensorflow.keras.callbacks import EarlyStopping, ModelCheckpoint\n",
    "from sklearn.preprocessing import MinMaxScaler\n",
    "import matplotlib.pyplot as plt\n",
    "import optuna\n"
   ]
  },
  {
   "cell_type": "code",
   "execution_count": 245,
   "id": "11677e50",
   "metadata": {},
   "outputs": [],
   "source": [
    "\n",
    "# Load dataset\n",
    "df = pd.read_csv('cleaned_well_data.csv')\n",
    "depth = df['DEPT'].values\n",
    "\n",
    "# Features and target\n",
    "input_features = ['GR', 'PHIE:1', 'VSH', 'RHOB:1', 'CALI', 'SP:1']\n",
    "target_log = ['RES']\n",
    "\n",
    "X = df[input_features].values\n",
    "y = df[target_log].values\n",
    "\n",
    "# Scaling\n",
    "scaler_x = MinMaxScaler()\n",
    "scaler_y = MinMaxScaler()\n",
    "X_scaled = scaler_x.fit_transform(X)\n",
    "y_scaled = scaler_y.fit_transform(y)\n"
   ]
  },
  {
   "cell_type": "code",
   "execution_count": 276,
   "id": "2322257f",
   "metadata": {},
   "outputs": [],
   "source": [
    "\n",
    "# Create sequences for LSTM input\n",
    "def create_sequences(X, y, seq_length):\n",
    "    X_seq, y_seq = [], []\n",
    "    for i in range(len(X) - seq_length):\n",
    "        X_seq.append(X[i:i+seq_length])\n",
    "        y_seq.append(y[i+seq_length])\n",
    "    return np.array(X_seq), np.array(y_seq)\n",
    "\n",
    "seq_length = 30\n",
    "X_seq, y_seq = create_sequences(X_scaled, y_scaled, seq_length)\n",
    "\n",
    "# Train-test split (80-20 split)\n",
    "split_idx = int(len(X_seq) * 0.8)\n",
    "X_train, X_test = X_seq[:split_idx], X_seq[split_idx:]\n",
    "y_train, y_test = y_seq[:split_idx], y_seq[split_idx:]\n",
    "depth_train, depth_test = depth[seq_length:split_idx+seq_length], depth[split_idx+seq_length:]\n"
   ]
  },
  {
   "cell_type": "code",
   "execution_count": 277,
   "id": "f2861b56",
   "metadata": {},
   "outputs": [],
   "source": [
    "\n",
    "# Physics loss: smooth transitions in prediction along the depth\n",
    "def physics_loss(y_true, y_pred):\n",
    "    data_loss = tf.reduce_mean(tf.square(y_true - y_pred))\n",
    "    smoothness = tf.reduce_mean(tf.square(y_pred[1:] - y_pred[:-1]))\n",
    "    return data_loss + 0.2 * smoothness\n"
   ]
  },
  {
   "cell_type": "code",
   "execution_count": 278,
   "id": "75b4bdfd",
   "metadata": {},
   "outputs": [
    {
     "name": "stdout",
     "output_type": "stream",
     "text": [
      "Model: \"sequential_24\"\n",
      "_________________________________________________________________\n",
      " Layer (type)                Output Shape              Param #   \n",
      "=================================================================\n",
      " lstm_48 (LSTM)              (None, 30, 64)            18176     \n",
      "                                                                 \n",
      " dropout_48 (Dropout)        (None, 30, 64)            0         \n",
      "                                                                 \n",
      " lstm_49 (LSTM)              (None, 32)                12416     \n",
      "                                                                 \n",
      " dropout_49 (Dropout)        (None, 32)                0         \n",
      "                                                                 \n",
      " dense_24 (Dense)            (None, 1)                 33        \n",
      "                                                                 \n",
      "=================================================================\n",
      "Total params: 30,625\n",
      "Trainable params: 30,625\n",
      "Non-trainable params: 0\n",
      "_________________________________________________________________\n"
     ]
    }
   ],
   "source": [
    "\n",
    "model = Sequential([\n",
    "    LSTM(64, return_sequences=True, input_shape=(X_train.shape[1], X_train.shape[2])),\n",
    "    Dropout(0.2),\n",
    "    LSTM(32),\n",
    "    Dropout(0.2),\n",
    "    Dense(1)\n",
    "])\n",
    "\n",
    "model.compile(optimizer='adam', loss=physics_loss, metrics=['mae'])\n",
    "model.summary()\n"
   ]
  },
  {
   "cell_type": "code",
   "execution_count": 279,
   "id": "1e4e9bcd",
   "metadata": {},
   "outputs": [],
   "source": [
    "\n",
    "callbacks = [\n",
    "    EarlyStopping(monitor='val_loss', patience=20, restore_best_weights=True),\n",
    "    ModelCheckpoint('best_lstm_model.h5', save_best_only=True, monitor='val_loss')\n",
    "]\n"
   ]
  },
  {
   "cell_type": "code",
   "execution_count": 280,
   "id": "711e2ec1",
   "metadata": {},
   "outputs": [
    {
     "name": "stdout",
     "output_type": "stream",
     "text": [
      "Epoch 1/250\n",
      "62/62 [==============================] - 12s 85ms/step - loss: 0.0037 - mae: 0.0299 - val_loss: 2.3635e-04 - val_mae: 0.0109\n",
      "Epoch 2/250\n",
      "62/62 [==============================] - 4s 59ms/step - loss: 0.0021 - mae: 0.0170 - val_loss: 1.3118e-04 - val_mae: 0.0059\n",
      "Epoch 3/250\n",
      "62/62 [==============================] - 3s 51ms/step - loss: 0.0020 - mae: 0.0157 - val_loss: 1.5370e-04 - val_mae: 0.0082\n",
      "Epoch 4/250\n",
      "62/62 [==============================] - 3s 49ms/step - loss: 0.0019 - mae: 0.0141 - val_loss: 1.4382e-04 - val_mae: 0.0061\n",
      "Epoch 5/250\n",
      "62/62 [==============================] - 3s 50ms/step - loss: 0.0019 - mae: 0.0141 - val_loss: 1.2779e-04 - val_mae: 0.0053\n",
      "Epoch 6/250\n",
      "62/62 [==============================] - 3s 53ms/step - loss: 0.0019 - mae: 0.0126 - val_loss: 1.1734e-04 - val_mae: 0.0050\n",
      "Epoch 7/250\n",
      "62/62 [==============================] - 3s 54ms/step - loss: 0.0018 - mae: 0.0128 - val_loss: 1.2040e-04 - val_mae: 0.0052\n",
      "Epoch 8/250\n",
      "62/62 [==============================] - 3s 51ms/step - loss: 0.0018 - mae: 0.0140 - val_loss: 1.2735e-04 - val_mae: 0.0055\n",
      "Epoch 9/250\n",
      "62/62 [==============================] - 3s 48ms/step - loss: 0.0015 - mae: 0.0122 - val_loss: 2.1518e-04 - val_mae: 0.0124\n",
      "Epoch 10/250\n",
      "62/62 [==============================] - 3s 49ms/step - loss: 0.0015 - mae: 0.0131 - val_loss: 1.4389e-04 - val_mae: 0.0083\n",
      "Epoch 11/250\n",
      "62/62 [==============================] - 3s 56ms/step - loss: 0.0013 - mae: 0.0102 - val_loss: 1.3143e-04 - val_mae: 0.0084\n",
      "Epoch 12/250\n",
      "62/62 [==============================] - 4s 59ms/step - loss: 0.0015 - mae: 0.0105 - val_loss: 9.7016e-05 - val_mae: 0.0051\n",
      "Epoch 13/250\n",
      "62/62 [==============================] - 3s 52ms/step - loss: 0.0014 - mae: 0.0105 - val_loss: 1.5169e-04 - val_mae: 0.0084\n",
      "Epoch 14/250\n",
      "62/62 [==============================] - 3s 48ms/step - loss: 0.0018 - mae: 0.0110 - val_loss: 1.0221e-04 - val_mae: 0.0044\n",
      "Epoch 15/250\n",
      "62/62 [==============================] - 3s 50ms/step - loss: 0.0015 - mae: 0.0104 - val_loss: 1.3397e-04 - val_mae: 0.0063\n",
      "Epoch 16/250\n",
      "62/62 [==============================] - 3s 54ms/step - loss: 0.0012 - mae: 0.0086 - val_loss: 1.1148e-04 - val_mae: 0.0048\n",
      "Epoch 17/250\n",
      "62/62 [==============================] - 4s 58ms/step - loss: 0.0012 - mae: 0.0091 - val_loss: 9.0571e-05 - val_mae: 0.0036\n",
      "Epoch 18/250\n",
      "62/62 [==============================] - 3s 51ms/step - loss: 0.0014 - mae: 0.0092 - val_loss: 1.1201e-04 - val_mae: 0.0062\n",
      "Epoch 19/250\n",
      "62/62 [==============================] - 3s 49ms/step - loss: 0.0012 - mae: 0.0079 - val_loss: 1.4581e-04 - val_mae: 0.0079\n",
      "Epoch 20/250\n",
      "62/62 [==============================] - 3s 51ms/step - loss: 0.0013 - mae: 0.0078 - val_loss: 8.4565e-05 - val_mae: 0.0038\n",
      "Epoch 21/250\n",
      "62/62 [==============================] - 3s 53ms/step - loss: 0.0014 - mae: 0.0080 - val_loss: 9.5229e-05 - val_mae: 0.0037\n",
      "Epoch 22/250\n",
      "62/62 [==============================] - 3s 56ms/step - loss: 0.0012 - mae: 0.0078 - val_loss: 8.5038e-05 - val_mae: 0.0041\n",
      "Epoch 23/250\n",
      "62/62 [==============================] - 3s 51ms/step - loss: 0.0012 - mae: 0.0077 - val_loss: 9.9090e-05 - val_mae: 0.0039\n",
      "Epoch 24/250\n",
      "62/62 [==============================] - 4s 63ms/step - loss: 0.0012 - mae: 0.0072 - val_loss: 7.8083e-05 - val_mae: 0.0035\n",
      "Epoch 25/250\n",
      "62/62 [==============================] - 3s 49ms/step - loss: 0.0012 - mae: 0.0077 - val_loss: 1.2524e-04 - val_mae: 0.0070\n",
      "Epoch 26/250\n",
      "62/62 [==============================] - 3s 55ms/step - loss: 0.0011 - mae: 0.0073 - val_loss: 1.0926e-04 - val_mae: 0.0059\n",
      "Epoch 27/250\n",
      "62/62 [==============================] - 3s 54ms/step - loss: 0.0013 - mae: 0.0076 - val_loss: 8.7448e-05 - val_mae: 0.0036\n",
      "Epoch 28/250\n",
      "62/62 [==============================] - 3s 50ms/step - loss: 0.0012 - mae: 0.0071 - val_loss: 8.2194e-05 - val_mae: 0.0036\n",
      "Epoch 29/250\n",
      "62/62 [==============================] - 3s 49ms/step - loss: 0.0012 - mae: 0.0071 - val_loss: 8.7693e-05 - val_mae: 0.0037\n",
      "Epoch 30/250\n",
      "62/62 [==============================] - 3s 50ms/step - loss: 0.0011 - mae: 0.0068 - val_loss: 7.8306e-05 - val_mae: 0.0040\n",
      "Epoch 31/250\n",
      "62/62 [==============================] - 3s 55ms/step - loss: 0.0011 - mae: 0.0073 - val_loss: 1.2652e-04 - val_mae: 0.0070\n",
      "Epoch 32/250\n",
      "62/62 [==============================] - 3s 55ms/step - loss: 0.0011 - mae: 0.0068 - val_loss: 8.9333e-05 - val_mae: 0.0040\n",
      "Epoch 33/250\n",
      "62/62 [==============================] - 3s 50ms/step - loss: 0.0012 - mae: 0.0073 - val_loss: 8.4663e-05 - val_mae: 0.0041\n",
      "Epoch 34/250\n",
      "62/62 [==============================] - 3s 50ms/step - loss: 0.0012 - mae: 0.0070 - val_loss: 1.0049e-04 - val_mae: 0.0048\n",
      "Epoch 35/250\n",
      "62/62 [==============================] - 3s 49ms/step - loss: 0.0011 - mae: 0.0061 - val_loss: 8.7291e-05 - val_mae: 0.0044\n",
      "Epoch 36/250\n",
      "62/62 [==============================] - 3s 54ms/step - loss: 0.0011 - mae: 0.0067 - val_loss: 9.2858e-05 - val_mae: 0.0042\n",
      "Epoch 37/250\n",
      "62/62 [==============================] - 3s 56ms/step - loss: 0.0012 - mae: 0.0068 - val_loss: 8.0035e-05 - val_mae: 0.0042\n",
      "Epoch 38/250\n",
      "62/62 [==============================] - 3s 49ms/step - loss: 0.0011 - mae: 0.0066 - val_loss: 1.0034e-04 - val_mae: 0.0043\n",
      "Epoch 39/250\n",
      "62/62 [==============================] - 3s 49ms/step - loss: 9.9569e-04 - mae: 0.0067 - val_loss: 9.6047e-05 - val_mae: 0.0048\n",
      "Epoch 40/250\n",
      "62/62 [==============================] - 3s 49ms/step - loss: 0.0011 - mae: 0.0065 - val_loss: 1.0054e-04 - val_mae: 0.0059\n",
      "Epoch 41/250\n",
      "62/62 [==============================] - 3s 55ms/step - loss: 0.0012 - mae: 0.0072 - val_loss: 8.8160e-05 - val_mae: 0.0040\n",
      "Epoch 42/250\n",
      "62/62 [==============================] - 4s 57ms/step - loss: 0.0010 - mae: 0.0060 - val_loss: 7.7928e-05 - val_mae: 0.0037\n",
      "Epoch 43/250\n",
      "62/62 [==============================] - 3s 49ms/step - loss: 0.0011 - mae: 0.0068 - val_loss: 9.5491e-05 - val_mae: 0.0055\n",
      "Epoch 44/250\n",
      "62/62 [==============================] - 3s 49ms/step - loss: 0.0011 - mae: 0.0061 - val_loss: 8.5278e-05 - val_mae: 0.0043\n",
      "Epoch 45/250\n",
      "62/62 [==============================] - 3s 49ms/step - loss: 0.0011 - mae: 0.0064 - val_loss: 8.7837e-05 - val_mae: 0.0040\n",
      "Epoch 46/250\n",
      "62/62 [==============================] - 3s 55ms/step - loss: 9.8245e-04 - mae: 0.0057 - val_loss: 8.3393e-05 - val_mae: 0.0035\n",
      "Epoch 47/250\n",
      "62/62 [==============================] - 4s 58ms/step - loss: 9.9030e-04 - mae: 0.0058 - val_loss: 7.1132e-05 - val_mae: 0.0038\n",
      "Epoch 48/250\n",
      "62/62 [==============================] - 3s 50ms/step - loss: 0.0011 - mae: 0.0063 - val_loss: 1.1404e-04 - val_mae: 0.0055\n",
      "Epoch 49/250\n",
      "62/62 [==============================] - 3s 49ms/step - loss: 9.7118e-04 - mae: 0.0061 - val_loss: 9.5743e-05 - val_mae: 0.0043\n",
      "Epoch 50/250\n",
      "62/62 [==============================] - 3s 54ms/step - loss: 8.6271e-04 - mae: 0.0054 - val_loss: 6.1385e-05 - val_mae: 0.0035\n",
      "Epoch 51/250\n",
      "62/62 [==============================] - 3s 55ms/step - loss: 0.0010 - mae: 0.0060 - val_loss: 7.3577e-05 - val_mae: 0.0043\n",
      "Epoch 52/250\n",
      "62/62 [==============================] - 3s 54ms/step - loss: 0.0011 - mae: 0.0060 - val_loss: 7.5622e-05 - val_mae: 0.0041\n",
      "Epoch 53/250\n",
      "62/62 [==============================] - 3s 50ms/step - loss: 9.8188e-04 - mae: 0.0058 - val_loss: 7.9191e-05 - val_mae: 0.0033\n",
      "Epoch 54/250\n",
      "62/62 [==============================] - 4s 62ms/step - loss: 9.3161e-04 - mae: 0.0061 - val_loss: 1.0744e-04 - val_mae: 0.0059\n",
      "Epoch 55/250\n",
      "62/62 [==============================] - 3s 52ms/step - loss: 0.0011 - mae: 0.0060 - val_loss: 6.4209e-05 - val_mae: 0.0043\n",
      "Epoch 56/250\n",
      "62/62 [==============================] - 3s 57ms/step - loss: 9.6190e-04 - mae: 0.0059 - val_loss: 1.0484e-04 - val_mae: 0.0038\n",
      "Epoch 57/250\n",
      "62/62 [==============================] - 3s 53ms/step - loss: 9.6682e-04 - mae: 0.0067 - val_loss: 9.3241e-05 - val_mae: 0.0041\n",
      "Epoch 58/250\n",
      "62/62 [==============================] - 3s 49ms/step - loss: 9.2826e-04 - mae: 0.0058 - val_loss: 8.9035e-05 - val_mae: 0.0046\n",
      "Epoch 59/250\n",
      "62/62 [==============================] - 3s 50ms/step - loss: 9.5768e-04 - mae: 0.0059 - val_loss: 9.0429e-05 - val_mae: 0.0048\n",
      "Epoch 60/250\n",
      "62/62 [==============================] - 3s 52ms/step - loss: 9.0349e-04 - mae: 0.0055 - val_loss: 6.4754e-05 - val_mae: 0.0044\n",
      "Epoch 61/250\n",
      "62/62 [==============================] - 3s 55ms/step - loss: 8.1746e-04 - mae: 0.0057 - val_loss: 9.5327e-05 - val_mae: 0.0045\n",
      "Epoch 62/250\n",
      "62/62 [==============================] - 3s 54ms/step - loss: 8.3420e-04 - mae: 0.0050 - val_loss: 1.0239e-04 - val_mae: 0.0047\n",
      "Epoch 63/250\n",
      "62/62 [==============================] - 3s 49ms/step - loss: 0.0010 - mae: 0.0053 - val_loss: 8.6875e-05 - val_mae: 0.0044\n",
      "Epoch 64/250\n",
      "62/62 [==============================] - 3s 49ms/step - loss: 8.4850e-04 - mae: 0.0053 - val_loss: 8.8560e-05 - val_mae: 0.0041\n",
      "Epoch 65/250\n",
      "62/62 [==============================] - 3s 53ms/step - loss: 8.1636e-04 - mae: 0.0049 - val_loss: 9.0146e-05 - val_mae: 0.0044\n",
      "Epoch 66/250\n",
      "62/62 [==============================] - 3s 55ms/step - loss: 0.0012 - mae: 0.0068 - val_loss: 1.5653e-04 - val_mae: 0.0074\n",
      "Epoch 67/250\n",
      "62/62 [==============================] - 3s 56ms/step - loss: 0.0018 - mae: 0.0094 - val_loss: 1.1271e-04 - val_mae: 0.0065\n",
      "Epoch 68/250\n",
      "62/62 [==============================] - 3s 50ms/step - loss: 0.0012 - mae: 0.0080 - val_loss: 9.1774e-05 - val_mae: 0.0038\n",
      "Epoch 69/250\n",
      "62/62 [==============================] - 3s 49ms/step - loss: 0.0013 - mae: 0.0078 - val_loss: 9.3653e-05 - val_mae: 0.0036\n",
      "Epoch 70/250\n",
      "62/62 [==============================] - 4s 62ms/step - loss: 0.0011 - mae: 0.0068 - val_loss: 7.8880e-05 - val_mae: 0.0044\n"
     ]
    }
   ],
   "source": [
    "\n",
    "history = model.fit(\n",
    "    X_train, y_train,\n",
    "    epochs=250,\n",
    "    batch_size=64,\n",
    "    validation_data=(X_test, y_test),\n",
    "    callbacks=callbacks\n",
    ")\n"
   ]
  },
  {
   "cell_type": "code",
   "execution_count": 281,
   "id": "6d9c2002",
   "metadata": {},
   "outputs": [
    {
     "name": "stdout",
     "output_type": "stream",
     "text": [
      "31/31 [==============================] - 4s 14ms/step\n"
     ]
    }
   ],
   "source": [
    "\n",
    "y_pred = model.predict(X_test)\n",
    "y_pred_rescaled = scaler_y.inverse_transform(y_pred)\n",
    "y_test_rescaled = scaler_y.inverse_transform(y_test)\n",
    "depth_test = np.array(depth_test)\n"
   ]
  },
  {
   "cell_type": "code",
   "execution_count": 282,
   "id": "1fa9b794",
   "metadata": {},
   "outputs": [
    {
     "data": {
      "image/png": "[encoded data removed]",
      "text/plain": [
       "<Figure size 800x1000 with 1 Axes>"
      ]
     },
     "metadata": {},
     "output_type": "display_data"
    }
   ],
   "source": [
    "\n",
    "plt.figure(figsize=(8, 10))\n",
    "plt.plot(y_test_rescaled, depth_test, label='True RT', color='blue')\n",
    "plt.plot(y_pred_rescaled, depth_test, label='Predicted RT', color='orange')\n",
    "plt.gca().invert_yaxis()\n",
    "plt.xlabel('Resistivity (RT)')\n",
    "plt.ylabel('Depth (m)')\n",
    "plt.title('Resistivity (RT) Prediction with LSTM')\n",
    "plt.legend()\n",
    "plt.grid(True)\n",
    "plt.show()\n"
   ]
  },
  {
   "cell_type": "code",
   "execution_count": 283,
   "id": "577ffd5a",
   "metadata": {},
   "outputs": [],
   "source": [
    "model.save('final_lstm_well_log_model.h5')"
   ]
  },
  {
   "cell_type": "code",
   "execution_count": 284,
   "id": "963ce18d-5844-4d10-b97d-e1f885cbe59a",
   "metadata": {},
   "outputs": [
    {
     "name": "stdout",
     "output_type": "stream",
     "text": [
      "Prediction Accuracy (100 - MAPE): 77.40%\n",
      "Mean Absolute Percentage Error (MAPE): 22.60%\n",
      "R² Score: 0.4257\n"
     ]
    }
   ],
   "source": [
    "from sklearn.metrics import mean_absolute_percentage_error, r2_score\n",
    "\n",
    "mape = mean_absolute_percentage_error(y_test_rescaled, y_pred_rescaled) * 100\n",
    "accuracy = 100 - mape\n",
    "r2 = r2_score(y_test_rescaled, y_pred_rescaled)\n",
    "\n",
    "print(f\"Prediction Accuracy (100 - MAPE): {accuracy:.2f}%\")\n",
    "print(f\"Mean Absolute Percentage Error (MAPE): {mape:.2f}%\")\n",
    "print(f\"R² Score: {r2:.4f}\")"
   ]
  },
  {
   "cell_type": "code",
   "execution_count": 285,
   "id": "155aa7b1-d7a1-4fb2-ba5e-a394c155d524",
   "metadata": {},
   "outputs": [
    {
     "name": "stdout",
     "output_type": "stream",
     "text": [
      "Mean Squared Error (MSE): 1.6486\n"
     ]
    }
   ],
   "source": [
    "from sklearn.metrics import mean_squared_error\n",
    "\n",
    "mse = mean_squared_error(y_test_rescaled, y_pred_rescaled)\n",
    "print(f\"Mean Squared Error (MSE): {mse:.4f}\")"
   ]
  },
  {
   "cell_type": "code",
   "execution_count": null,
   "id": "f2db8aa4-480a-4e1e-9fc6-5e50b15b73df",
   "metadata": {},
   "outputs": [],
   "source": []
  }
 ],
 "metadata": {
  "kernelspec": {
   "display_name": "Python 3 (ipykernel)",
   "language": "python",
   "name": "python3"
  },
  "language_info": {
   "codemirror_mode": {
    "name": "ipython",
    "version": 3
   },
   "file_extension": ".py",
   "mimetype": "text/x-python",
   "name": "python",
   "nbconvert_exporter": "python",
   "pygments_lexer": "ipython3",
   "version": "3.10.13"
  }
 },
 "nbformat": 4,
 "nbformat_minor": 5
}
